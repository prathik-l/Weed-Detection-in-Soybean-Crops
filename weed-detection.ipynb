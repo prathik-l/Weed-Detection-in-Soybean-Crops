{
 "cells": [
  {
   "cell_type": "code",
   "execution_count": 1,
   "id": "dcb2392a",
   "metadata": {
    "_cell_guid": "b1076dfc-b9ad-4769-8c92-a6c4dae69d19",
    "_uuid": "8f2839f25d086af736a60e9eeb907d3b93b6e0e5",
    "execution": {
     "iopub.execute_input": "2023-03-15T03:54:53.489958Z",
     "iopub.status.busy": "2023-03-15T03:54:53.484845Z",
     "iopub.status.idle": "2023-03-15T03:54:59.218060Z",
     "shell.execute_reply": "2023-03-15T03:54:59.217058Z"
    },
    "papermill": {
     "duration": 5.74439,
     "end_time": "2023-03-15T03:54:59.220546",
     "exception": false,
     "start_time": "2023-03-15T03:54:53.476156",
     "status": "completed"
    },
    "tags": []
   },
   "outputs": [],
   "source": [
    "import matplotlib.pyplot as plt\n",
    "import numpy as np\n",
    "import os\n",
    "\n",
    "from tqdm import tqdm\n",
    "import glob\n",
    "import seaborn as sns\n",
    "import cv2\n",
    "import io\n",
    "\n",
    "import tensorflow as tf\n",
    "from sklearn.model_selection import train_test_split\n",
    "from tensorflow.keras.preprocessing.image import ImageDataGenerator\n",
    "from sklearn.utils import shuffle\n",
    "import ipywidgets as widgets\n",
    "from tensorflow.keras.utils import to_categorical\n",
    "\n",
    "# architecture Pare\n",
    "from keras.models import Sequential\n",
    "from keras.layers import Dense, Activation, Dropout, Flatten, Conv2D, MaxPooling2D\n",
    "\n",
    "from sklearn.metrics import classification_report, confusion_matrix"
   ]
  },
  {
   "cell_type": "code",
   "execution_count": 2,
   "id": "f98eb3c4",
   "metadata": {
    "execution": {
     "iopub.execute_input": "2023-03-15T03:54:59.233026Z",
     "iopub.status.busy": "2023-03-15T03:54:59.231257Z",
     "iopub.status.idle": "2023-03-15T03:54:59.237201Z",
     "shell.execute_reply": "2023-03-15T03:54:59.236373Z"
    },
    "papermill": {
     "duration": 0.013627,
     "end_time": "2023-03-15T03:54:59.239198",
     "exception": false,
     "start_time": "2023-03-15T03:54:59.225571",
     "status": "completed"
    },
    "tags": []
   },
   "outputs": [],
   "source": [
    "labels = [\"broadleaf\", \"grass\", \"soil\", \"soybean\"]"
   ]
  },
  {
   "cell_type": "code",
   "execution_count": 3,
   "id": "3f1ea007",
   "metadata": {
    "execution": {
     "iopub.execute_input": "2023-03-15T03:54:59.250542Z",
     "iopub.status.busy": "2023-03-15T03:54:59.249122Z",
     "iopub.status.idle": "2023-03-15T03:56:30.546689Z",
     "shell.execute_reply": "2023-03-15T03:56:30.545692Z"
    },
    "papermill": {
     "duration": 91.305543,
     "end_time": "2023-03-15T03:56:30.549418",
     "exception": false,
     "start_time": "2023-03-15T03:54:59.243875",
     "status": "completed"
    },
    "tags": []
   },
   "outputs": [
    {
     "name": "stdout",
     "output_type": "stream",
     "text": [
      "../input/weed-detection-in-soybean-crops/dataset/broadleaf/\n",
      "1191\n",
      "../input/weed-detection-in-soybean-crops/dataset/grass/\n",
      "3520\n",
      "../input/weed-detection-in-soybean-crops/dataset/soil/\n",
      "3249\n",
      "../input/weed-detection-in-soybean-crops/dataset/soybean/\n",
      "7376\n"
     ]
    }
   ],
   "source": [
    "X  =[] \n",
    "Y = [] \n",
    "image_size = (227, 227)\n",
    "\n",
    "for i in labels:\n",
    "    Datasetspath = \"../input/weed-detection-in-soybean-crops/dataset/\" + i + \"/\"\n",
    "    print(Datasetspath)\n",
    "    fileRead = glob.glob(Datasetspath + \"*\")\n",
    "    print(len(fileRead))\n",
    "    \n",
    "    for file in fileRead:\n",
    "        image = cv2.imread(file)\n",
    "        img = cv2.resize(image, image_size)\n",
    "        X.append(img)\n",
    "        Y.append(i)\n",
    "X = np.array(X)\n",
    "Y = np.array(Y)"
   ]
  },
  {
   "cell_type": "code",
   "execution_count": 4,
   "id": "92a49c27",
   "metadata": {
    "execution": {
     "iopub.execute_input": "2023-03-15T03:56:30.560968Z",
     "iopub.status.busy": "2023-03-15T03:56:30.560636Z",
     "iopub.status.idle": "2023-03-15T03:56:30.606479Z",
     "shell.execute_reply": "2023-03-15T03:56:30.605068Z"
    },
    "papermill": {
     "duration": 0.053639,
     "end_time": "2023-03-15T03:56:30.608472",
     "exception": false,
     "start_time": "2023-03-15T03:56:30.554833",
     "status": "completed"
    },
    "tags": []
   },
   "outputs": [
    {
     "name": "stdout",
     "output_type": "stream",
     "text": [
      "../input/weed-detection-in-soybean-crops/dataset/broadleaf/\n",
      "../input/weed-detection-in-soybean-crops/dataset/broadleaf/274.tif\n",
      "../input/weed-detection-in-soybean-crops/dataset/grass/\n",
      "../input/weed-detection-in-soybean-crops/dataset/grass/659.tif\n",
      "../input/weed-detection-in-soybean-crops/dataset/soil/\n",
      "../input/weed-detection-in-soybean-crops/dataset/soil/659.tif\n",
      "../input/weed-detection-in-soybean-crops/dataset/soybean/\n",
      "../input/weed-detection-in-soybean-crops/dataset/soybean/5623.tif\n"
     ]
    }
   ],
   "source": [
    "for i in labels:\n",
    "    Datasetspath = \"../input/weed-detection-in-soybean-crops/dataset/\" + i + \"/\"\n",
    "    print(Datasetspath)\n",
    "    fileRead = glob.glob(Datasetspath + \"*\")\n",
    "    print(fileRead[1])\n",
    "#     break"
   ]
  },
  {
   "cell_type": "code",
   "execution_count": 5,
   "id": "95dd21d0",
   "metadata": {
    "execution": {
     "iopub.execute_input": "2023-03-15T03:56:30.619336Z",
     "iopub.status.busy": "2023-03-15T03:56:30.619052Z",
     "iopub.status.idle": "2023-03-15T03:56:30.628061Z",
     "shell.execute_reply": "2023-03-15T03:56:30.626867Z"
    },
    "papermill": {
     "duration": 0.017184,
     "end_time": "2023-03-15T03:56:30.630516",
     "exception": false,
     "start_time": "2023-03-15T03:56:30.613332",
     "status": "completed"
    },
    "tags": []
   },
   "outputs": [
    {
     "data": {
      "text/plain": [
       "((15336, 227, 227, 3), (15336,))"
      ]
     },
     "execution_count": 5,
     "metadata": {},
     "output_type": "execute_result"
    }
   ],
   "source": [
    "X.shape, Y.shape"
   ]
  },
  {
   "cell_type": "code",
   "execution_count": 6,
   "id": "fa79f7ff",
   "metadata": {
    "execution": {
     "iopub.execute_input": "2023-03-15T03:56:30.641076Z",
     "iopub.status.busy": "2023-03-15T03:56:30.640810Z",
     "iopub.status.idle": "2023-03-15T03:56:30.891128Z",
     "shell.execute_reply": "2023-03-15T03:56:30.890175Z"
    },
    "papermill": {
     "duration": 0.258887,
     "end_time": "2023-03-15T03:56:30.894105",
     "exception": false,
     "start_time": "2023-03-15T03:56:30.635218",
     "status": "completed"
    },
    "tags": []
   },
   "outputs": [
    {
     "data": {
      "text/plain": [
       "<matplotlib.image.AxesImage at 0x7f8176e5f990>"
      ]
     },
     "execution_count": 6,
     "metadata": {},
     "output_type": "execute_result"
    },
    {
     "data": {
      "image/png": "[encoded data removed]",
      "text/plain": [
       "<Figure size 432x288 with 1 Axes>"
      ]
     },
     "metadata": {
      "needs_background": "light"
     },
     "output_type": "display_data"
    }
   ],
   "source": [
    "plt.imshow(X[0])"
   ]
  },
  {
   "cell_type": "code",
   "execution_count": 7,
   "id": "bf4d62b9",
   "metadata": {
    "execution": {
     "iopub.execute_input": "2023-03-15T03:56:30.907431Z",
     "iopub.status.busy": "2023-03-15T03:56:30.907141Z",
     "iopub.status.idle": "2023-03-15T03:56:30.912199Z",
     "shell.execute_reply": "2023-03-15T03:56:30.911274Z"
    },
    "papermill": {
     "duration": 0.014676,
     "end_time": "2023-03-15T03:56:30.914953",
     "exception": false,
     "start_time": "2023-03-15T03:56:30.900277",
     "status": "completed"
    },
    "tags": []
   },
   "outputs": [
    {
     "name": "stdout",
     "output_type": "stream",
     "text": [
      "broadleaf\n"
     ]
    }
   ],
   "source": [
    "print(Y[0])"
   ]
  },
  {
   "cell_type": "code",
   "execution_count": 8,
   "id": "910f5ae1",
   "metadata": {
    "execution": {
     "iopub.execute_input": "2023-03-15T03:56:30.928813Z",
     "iopub.status.busy": "2023-03-15T03:56:30.928508Z",
     "iopub.status.idle": "2023-03-15T03:56:30.944159Z",
     "shell.execute_reply": "2023-03-15T03:56:30.943135Z"
    },
    "papermill": {
     "duration": 0.024496,
     "end_time": "2023-03-15T03:56:30.946343",
     "exception": false,
     "start_time": "2023-03-15T03:56:30.921847",
     "status": "completed"
    },
    "tags": []
   },
   "outputs": [
    {
     "data": {
      "text/plain": [
       "array([1., 0., 0., 0.], dtype=float32)"
      ]
     },
     "execution_count": 8,
     "metadata": {},
     "output_type": "execute_result"
    }
   ],
   "source": [
    "Temp_y = []\n",
    "for i in Y:\n",
    "    Temp_y.append(labels.index(i))\n",
    "Y = to_categorical(Temp_y)\n",
    "Y[0]"
   ]
  },
  {
   "cell_type": "code",
   "execution_count": 9,
   "id": "c29ddd68",
   "metadata": {
    "execution": {
     "iopub.execute_input": "2023-03-15T03:56:30.959642Z",
     "iopub.status.busy": "2023-03-15T03:56:30.959376Z",
     "iopub.status.idle": "2023-03-15T03:56:30.965374Z",
     "shell.execute_reply": "2023-03-15T03:56:30.964402Z"
    },
    "papermill": {
     "duration": 0.014776,
     "end_time": "2023-03-15T03:56:30.967291",
     "exception": false,
     "start_time": "2023-03-15T03:56:30.952515",
     "status": "completed"
    },
    "tags": []
   },
   "outputs": [
    {
     "data": {
      "text/plain": [
       "(15336, 4)"
      ]
     },
     "execution_count": 9,
     "metadata": {},
     "output_type": "execute_result"
    }
   ],
   "source": [
    "Y.shape"
   ]
  },
  {
   "cell_type": "code",
   "execution_count": 10,
   "id": "d5982eda",
   "metadata": {
    "execution": {
     "iopub.execute_input": "2023-03-15T03:56:30.981303Z",
     "iopub.status.busy": "2023-03-15T03:56:30.981054Z",
     "iopub.status.idle": "2023-03-15T03:56:31.513719Z",
     "shell.execute_reply": "2023-03-15T03:56:31.512657Z"
    },
    "papermill": {
     "duration": 0.541769,
     "end_time": "2023-03-15T03:56:31.516102",
     "exception": false,
     "start_time": "2023-03-15T03:56:30.974333",
     "status": "completed"
    },
    "tags": []
   },
   "outputs": [],
   "source": [
    "X_train, X_test, Y_train, Y_test = train_test_split(X, Y, test_size = 0.3, random_state=101)"
   ]
  },
  {
   "cell_type": "code",
   "execution_count": 11,
   "id": "8b5b7fcf",
   "metadata": {
    "execution": {
     "iopub.execute_input": "2023-03-15T03:56:31.530539Z",
     "iopub.status.busy": "2023-03-15T03:56:31.529785Z",
     "iopub.status.idle": "2023-03-15T03:56:31.537999Z",
     "shell.execute_reply": "2023-03-15T03:56:31.537175Z"
    },
    "papermill": {
     "duration": 0.017339,
     "end_time": "2023-03-15T03:56:31.540009",
     "exception": false,
     "start_time": "2023-03-15T03:56:31.522670",
     "status": "completed"
    },
    "tags": []
   },
   "outputs": [
    {
     "data": {
      "text/plain": [
       "((10735, 227, 227, 3), (10735, 4))"
      ]
     },
     "execution_count": 11,
     "metadata": {},
     "output_type": "execute_result"
    }
   ],
   "source": [
    "X_train.shape, Y_train.shape"
   ]
  },
  {
   "cell_type": "code",
   "execution_count": 12,
   "id": "e2a34d26",
   "metadata": {
    "execution": {
     "iopub.execute_input": "2023-03-15T03:56:31.553119Z",
     "iopub.status.busy": "2023-03-15T03:56:31.552859Z",
     "iopub.status.idle": "2023-03-15T03:56:31.558502Z",
     "shell.execute_reply": "2023-03-15T03:56:31.557618Z"
    },
    "papermill": {
     "duration": 0.014407,
     "end_time": "2023-03-15T03:56:31.560427",
     "exception": false,
     "start_time": "2023-03-15T03:56:31.546020",
     "status": "completed"
    },
    "tags": []
   },
   "outputs": [
    {
     "data": {
      "text/plain": [
       "((4601, 227, 227, 3), (4601, 4))"
      ]
     },
     "execution_count": 12,
     "metadata": {},
     "output_type": "execute_result"
    }
   ],
   "source": [
    "X_test.shape, Y_test.shape"
   ]
  },
  {
   "cell_type": "code",
   "execution_count": 13,
   "id": "2b747b62",
   "metadata": {
    "execution": {
     "iopub.execute_input": "2023-03-15T03:56:31.573591Z",
     "iopub.status.busy": "2023-03-15T03:56:31.573343Z",
     "iopub.status.idle": "2023-03-15T03:56:31.579095Z",
     "shell.execute_reply": "2023-03-15T03:56:31.578187Z"
    },
    "papermill": {
     "duration": 0.014565,
     "end_time": "2023-03-15T03:56:31.581037",
     "exception": false,
     "start_time": "2023-03-15T03:56:31.566472",
     "status": "completed"
    },
    "tags": []
   },
   "outputs": [],
   "source": [
    "import tensorflow as tf\n",
    "from tensorflow.keras.layers import MaxPooling2D, Dense, Conv2D, Flatten\n",
    "from tensorflow.keras.models import Sequential\n",
    "from tensorflow.keras.layers import Dropout"
   ]
  },
  {
   "cell_type": "code",
   "execution_count": 14,
   "id": "325f1eef",
   "metadata": {
    "execution": {
     "iopub.execute_input": "2023-03-15T03:56:31.594388Z",
     "iopub.status.busy": "2023-03-15T03:56:31.594121Z",
     "iopub.status.idle": "2023-03-15T03:56:34.008996Z",
     "shell.execute_reply": "2023-03-15T03:56:34.008057Z"
    },
    "papermill": {
     "duration": 2.424367,
     "end_time": "2023-03-15T03:56:34.011600",
     "exception": false,
     "start_time": "2023-03-15T03:56:31.587233",
     "status": "completed"
    },
    "tags": []
   },
   "outputs": [],
   "source": [
    "models = Sequential()\n",
    "\n",
    "\n",
    "#1st Conv2D Layer\n",
    "models.add(Conv2D(96, kernel_size = (11, 11), strides = (4, 4), \n",
    "                 padding = \"valid\", activation  = 'relu', input_shape = (227, 227, 3)))\n",
    "models.add(MaxPooling2D(pool_size = (3, 3),\n",
    "                       strides = (2, 2), padding = \"valid\",\n",
    "                       data_format = None))\n",
    "\n",
    "\n",
    "\n",
    "#2nd Conv2D Layer\n",
    "\n",
    "models.add(Conv2D(256, kernel_size = (5, 5), strides = 1, \n",
    "                 padding = \"same\", activation  = 'relu'))\n",
    "\n",
    "models.add(MaxPooling2D(pool_size = (3, 3),\n",
    "                       strides = (2, 2), padding = \"valid\",#\"same\"\n",
    "                       data_format = None))\n",
    "\n",
    "\n",
    "\n",
    "\n",
    "#3rd Conv2D Layer\n",
    "models.add(Conv2D(384, kernel_size = (3, 3), strides = 1, \n",
    "                 padding = \"same\", activation  = 'relu'))\n",
    "\n",
    "\n",
    "\n",
    "#4th Conv2D Layer\n",
    "models.add(Conv2D(384, kernel_size = (3, 3), strides = 1, \n",
    "                 padding = \"same\", activation  = 'relu'))\n",
    "\n",
    "\n",
    "#5th Conv2D Layer\n",
    "\n",
    "models.add(Conv2D(256, kernel_size = (3, 3), strides = 1, \n",
    "                 padding = \"same\", activation  = 'relu'))\n",
    "\n",
    "models.add(MaxPooling2D(pool_size = (3, 3),\n",
    "                       strides = (2, 2), padding = \"valid\",#\"same\"\n",
    "                       data_format = None))\n",
    "\n",
    "\n",
    "# Flatten Layer\n",
    "models.add(Flatten())\n",
    "\n",
    "models.add(Dense(4096, activation = 'relu'))\n",
    "models.add(Dense(4096, activation = 'relu'))\n",
    "#models.add(Dense(1000, activation = 'relu'))\n",
    "models.add(Dense(4, activation = 'softmax'))\n"
   ]
  },
  {
   "cell_type": "code",
   "execution_count": 15,
   "id": "a25061b1",
   "metadata": {
    "execution": {
     "iopub.execute_input": "2023-03-15T03:56:34.026816Z",
     "iopub.status.busy": "2023-03-15T03:56:34.025328Z",
     "iopub.status.idle": "2023-03-15T03:56:34.033788Z",
     "shell.execute_reply": "2023-03-15T03:56:34.032879Z"
    },
    "papermill": {
     "duration": 0.017452,
     "end_time": "2023-03-15T03:56:34.035616",
     "exception": false,
     "start_time": "2023-03-15T03:56:34.018164",
     "status": "completed"
    },
    "tags": []
   },
   "outputs": [
    {
     "name": "stdout",
     "output_type": "stream",
     "text": [
      "Model: \"sequential\"\n",
      "_________________________________________________________________\n",
      "Layer (type)                 Output Shape              Param #   \n",
      "=================================================================\n",
      "conv2d (Conv2D)              (None, 55, 55, 96)        34944     \n",
      "_________________________________________________________________\n",
      "max_pooling2d (MaxPooling2D) (None, 27, 27, 96)        0         \n",
      "_________________________________________________________________\n",
      "conv2d_1 (Conv2D)            (None, 27, 27, 256)       614656    \n",
      "_________________________________________________________________\n",
      "max_pooling2d_1 (MaxPooling2 (None, 13, 13, 256)       0         \n",
      "_________________________________________________________________\n",
      "conv2d_2 (Conv2D)            (None, 13, 13, 384)       885120    \n",
      "_________________________________________________________________\n",
      "conv2d_3 (Conv2D)            (None, 13, 13, 384)       1327488   \n",
      "_________________________________________________________________\n",
      "conv2d_4 (Conv2D)            (None, 13, 13, 256)       884992    \n",
      "_________________________________________________________________\n",
      "max_pooling2d_2 (MaxPooling2 (None, 6, 6, 256)         0         \n",
      "_________________________________________________________________\n",
      "flatten (Flatten)            (None, 9216)              0         \n",
      "_________________________________________________________________\n",
      "dense (Dense)                (None, 4096)              37752832  \n",
      "_________________________________________________________________\n",
      "dense_1 (Dense)              (None, 4096)              16781312  \n",
      "_________________________________________________________________\n",
      "dense_2 (Dense)              (None, 4)                 16388     \n",
      "=================================================================\n",
      "Total params: 58,297,732\n",
      "Trainable params: 58,297,732\n",
      "Non-trainable params: 0\n",
      "_________________________________________________________________\n"
     ]
    }
   ],
   "source": [
    "models.summary()"
   ]
  },
  {
   "cell_type": "code",
   "execution_count": 16,
   "id": "4fd81510",
   "metadata": {
    "execution": {
     "iopub.execute_input": "2023-03-15T03:56:34.050033Z",
     "iopub.status.busy": "2023-03-15T03:56:34.049273Z",
     "iopub.status.idle": "2023-03-15T03:56:34.054146Z",
     "shell.execute_reply": "2023-03-15T03:56:34.053338Z"
    },
    "papermill": {
     "duration": 0.014177,
     "end_time": "2023-03-15T03:56:34.056211",
     "exception": false,
     "start_time": "2023-03-15T03:56:34.042034",
     "status": "completed"
    },
    "tags": []
   },
   "outputs": [],
   "source": [
    "optimizer = tf.keras.optimizers.Adam(learning_rate=0.0001)"
   ]
  },
  {
   "cell_type": "code",
   "execution_count": 17,
   "id": "4ea28b08",
   "metadata": {
    "execution": {
     "iopub.execute_input": "2023-03-15T03:56:34.069603Z",
     "iopub.status.busy": "2023-03-15T03:56:34.069353Z",
     "iopub.status.idle": "2023-03-15T03:56:34.080728Z",
     "shell.execute_reply": "2023-03-15T03:56:34.079923Z"
    },
    "papermill": {
     "duration": 0.020292,
     "end_time": "2023-03-15T03:56:34.082661",
     "exception": false,
     "start_time": "2023-03-15T03:56:34.062369",
     "status": "completed"
    },
    "tags": []
   },
   "outputs": [],
   "source": [
    "models.compile(loss = \"categorical_crossentropy\",\n",
    "             optimizer = optimizer,\n",
    "             metrics = [\"accuracy\"])"
   ]
  },
  {
   "cell_type": "code",
   "execution_count": 18,
   "id": "169682aa",
   "metadata": {
    "execution": {
     "iopub.execute_input": "2023-03-15T03:56:34.096551Z",
     "iopub.status.busy": "2023-03-15T03:56:34.095807Z",
     "iopub.status.idle": "2023-03-15T04:08:05.633649Z",
     "shell.execute_reply": "2023-03-15T04:08:05.632657Z"
    },
    "papermill": {
     "duration": 692.171657,
     "end_time": "2023-03-15T04:08:06.260538",
     "exception": false,
     "start_time": "2023-03-15T03:56:34.088881",
     "status": "completed"
    },
    "tags": []
   },
   "outputs": [
    {
     "name": "stdout",
     "output_type": "stream",
     "text": [
      "Epoch 1/10\n",
      "5368/5368 [==============================] - 77s 13ms/step - loss: 0.8290 - accuracy: 0.6905 - val_loss: 0.5271 - val_accuracy: 0.8566\n",
      "Epoch 2/10\n",
      "5368/5368 [==============================] - 68s 13ms/step - loss: 0.5784 - accuracy: 0.7835 - val_loss: 2.4559 - val_accuracy: 0.7053\n",
      "Epoch 3/10\n",
      "5368/5368 [==============================] - 68s 13ms/step - loss: 0.3667 - accuracy: 0.8671 - val_loss: 0.4321 - val_accuracy: 0.8563\n",
      "Epoch 4/10\n",
      "5368/5368 [==============================] - 68s 13ms/step - loss: 0.3171 - accuracy: 0.8896 - val_loss: 0.4257 - val_accuracy: 0.8535\n",
      "Epoch 5/10\n",
      "5368/5368 [==============================] - 68s 13ms/step - loss: 0.2890 - accuracy: 0.8966 - val_loss: 0.2451 - val_accuracy: 0.9076\n",
      "Epoch 6/10\n",
      "5368/5368 [==============================] - 68s 13ms/step - loss: 0.2341 - accuracy: 0.9147 - val_loss: 0.2283 - val_accuracy: 0.9189\n",
      "Epoch 7/10\n",
      "5368/5368 [==============================] - 68s 13ms/step - loss: 0.3272 - accuracy: 0.8950 - val_loss: 0.3034 - val_accuracy: 0.9159\n",
      "Epoch 8/10\n",
      "5368/5368 [==============================] - 68s 13ms/step - loss: 0.2308 - accuracy: 0.9204 - val_loss: 0.1997 - val_accuracy: 0.9289\n",
      "Epoch 9/10\n",
      "5368/5368 [==============================] - 68s 13ms/step - loss: 0.1968 - accuracy: 0.9323 - val_loss: 0.3458 - val_accuracy: 0.8998\n",
      "Epoch 10/10\n",
      "5368/5368 [==============================] - 68s 13ms/step - loss: 0.1671 - accuracy: 0.9406 - val_loss: 0.2120 - val_accuracy: 0.9285\n"
     ]
    }
   ],
   "source": [
    "history = models.fit(X_train, Y_train, validation_data=(X_test, Y_test), epochs = 10, batch_size = 2, verbose = 1)"
   ]
  },
  {
   "cell_type": "code",
   "execution_count": 19,
   "id": "8f887bbd",
   "metadata": {
    "execution": {
     "iopub.execute_input": "2023-03-15T04:08:07.431418Z",
     "iopub.status.busy": "2023-03-15T04:08:07.431056Z",
     "iopub.status.idle": "2023-03-15T04:08:07.672125Z",
     "shell.execute_reply": "2023-03-15T04:08:07.670740Z"
    },
    "papermill": {
     "duration": 0.85852,
     "end_time": "2023-03-15T04:08:07.674878",
     "exception": false,
     "start_time": "2023-03-15T04:08:06.816358",
     "status": "completed"
    },
    "tags": []
   },
   "outputs": [
    {
     "name": "stdout",
     "output_type": "stream",
     "text": [
      "Model Accuracy\n",
      "\n"
     ]
    },
    {
     "data": {
      "image/png": "[encoded data removed]",
      "text/plain": [
       "<Figure size 432x288 with 1 Axes>"
      ]
     },
     "metadata": {
      "needs_background": "light"
     },
     "output_type": "display_data"
    }
   ],
   "source": [
    "ax = plt.gca()\n",
    "ax.set_ylim([0, 1])\n",
    "print(\"Model Accuracy\\n\")\n",
    "plt.plot(history.history['accuracy'])\n",
    "plt.plot(history.history['val_accuracy'])\n",
    "plt.title('Model Accuracy')\n",
    "plt.ylabel('Accuracy')\n",
    "plt.xlabel('Epochs')\n",
    "plt.legend(['Train', 'Validation'])\n",
    "plt.show()"
   ]
  },
  {
   "cell_type": "code",
   "execution_count": 20,
   "id": "25ea7119",
   "metadata": {
    "execution": {
     "iopub.execute_input": "2023-03-15T04:08:08.839249Z",
     "iopub.status.busy": "2023-03-15T04:08:08.838852Z",
     "iopub.status.idle": "2023-03-15T04:08:09.032817Z",
     "shell.execute_reply": "2023-03-15T04:08:09.031770Z"
    },
    "papermill": {
     "duration": 0.783077,
     "end_time": "2023-03-15T04:08:09.035000",
     "exception": false,
     "start_time": "2023-03-15T04:08:08.251923",
     "status": "completed"
    },
    "tags": []
   },
   "outputs": [
    {
     "name": "stdout",
     "output_type": "stream",
     "text": [
      "Model Loss\n",
      "\n"
     ]
    },
    {
     "data": {
      "image/png": "[encoded data removed]",
      "text/plain": [
       "<Figure size 432x288 with 1 Axes>"
      ]
     },
     "metadata": {
      "needs_background": "light"
     },
     "output_type": "display_data"
    }
   ],
   "source": [
    "ax = plt.gca()\n",
    "# ax.set_ylim([0, 1])\n",
    "print(\"Model Loss\\n\")\n",
    "plt.plot(history.history['loss'])\n",
    "plt.plot(history.history['val_loss'])\n",
    "plt.title('Model Loss')\n",
    "plt.ylabel('Loss')\n",
    "plt.xlabel('Epochs')\n",
    "plt.legend(['Train', 'Validation'], loc='upper left')\n",
    "plt.show()"
   ]
  },
  {
   "cell_type": "code",
   "execution_count": null,
   "id": "2975577c",
   "metadata": {
    "papermill": {
     "duration": 0.629042,
     "end_time": "2023-03-15T04:08:10.439281",
     "exception": false,
     "start_time": "2023-03-15T04:08:09.810239",
     "status": "completed"
    },
    "tags": []
   },
   "outputs": [],
   "source": []
  }
 ],
 "metadata": {
  "kernelspec": {
   "display_name": "Python 3",
   "language": "python",
   "name": "python3"
  },
  "language_info": {
   "codemirror_mode": {
    "name": "ipython",
    "version": 3
   },
   "file_extension": ".py",
   "mimetype": "text/x-python",
   "name": "python",
   "nbconvert_exporter": "python",
   "pygments_lexer": "ipython3",
   "version": "3.7.12"
  },
  "papermill": {
   "default_parameters": {},
   "duration": 808.942626,
   "end_time": "2023-03-15T04:08:14.734642",
   "environment_variables": {},
   "exception": null,
   "input_path": "__notebook__.ipynb",
   "output_path": "__notebook__.ipynb",
   "parameters": {},
   "start_time": "2023-03-15T03:54:45.792016",
   "version": "2.3.4"
  }
 },
 "nbformat": 4,
 "nbformat_minor": 5
}
